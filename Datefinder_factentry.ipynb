{
  "nbformat": 4,
  "nbformat_minor": 0,
  "metadata": {
    "colab": {
      "name": "Datefinder_factentry.ipynb",
      "provenance": [],
      "collapsed_sections": [],
      "authorship_tag": "ABX9TyNpOVIqyKy1VlaVZJ8d6TGY",
      "include_colab_link": true
    },
    "kernelspec": {
      "name": "python3",
      "display_name": "Python 3"
    }
  },
  "cells": [
    {
      "cell_type": "markdown",
      "metadata": {
        "id": "view-in-github",
        "colab_type": "text"
      },
      "source": [
        "<a href=\"https://colab.research.google.com/github/sidmahurkar/FactEntry-Project-Scripts/blob/master/Datefinder_factentry.ipynb\" target=\"_parent\"><img src=\"https://colab.research.google.com/assets/colab-badge.svg\" alt=\"Open In Colab\"/></a>"
      ]
    },
    {
      "cell_type": "code",
      "metadata": {
        "id": "MIi42p3YgrF8",
        "colab_type": "code",
        "colab": {}
      },
      "source": [
        "import spacy"
      ],
      "execution_count": 0,
      "outputs": []
    },
    {
      "cell_type": "code",
      "metadata": {
        "id": "_hDvuKtpjdaL",
        "colab_type": "code",
        "colab": {}
      },
      "source": [
        "nlp = spacy.load('en_core_web_sm') "
      ],
      "execution_count": 0,
      "outputs": []
    },
    {
      "cell_type": "code",
      "metadata": {
        "id": "rJFIz7HCjlKd",
        "colab_type": "code",
        "colab": {}
      },
      "source": [
        "sentence=\"Interest will be paid half-yearly in arrears on the 28th day of each February and August; commencing February 28, 2020, and ending on the Maturity Date\""
      ],
      "execution_count": 0,
      "outputs": []
    },
    {
      "cell_type": "code",
      "metadata": {
        "id": "E1Ck7e38js_j",
        "colab_type": "code",
        "colab": {}
      },
      "source": [
        "doc = nlp(sentence)"
      ],
      "execution_count": 0,
      "outputs": []
    },
    {
      "cell_type": "code",
      "metadata": {
        "id": "QV6zFcMVjvpU",
        "colab_type": "code",
        "outputId": "2cb857d7-57d7-43c1-8448-a9349406b020",
        "colab": {
          "base_uri": "https://localhost:8080/",
          "height": 124
        }
      },
      "source": [
        "for ent in doc.ents:\n",
        "  print(ent.text,ent.label_)"
      ],
      "execution_count": 0,
      "outputs": [
        {
          "output_type": "stream",
          "text": [
            "half-yearly DATE\n",
            "the 28th day DATE\n",
            "February DATE\n",
            "August DATE\n",
            "February 28, 2020 DATE\n",
            "the Maturity Date WORK_OF_ART\n"
          ],
          "name": "stdout"
        }
      ]
    },
    {
      "cell_type": "code",
      "metadata": {
        "id": "GSOgBuT8j3yD",
        "colab_type": "code",
        "outputId": "9df859ae-f826-4dbd-9aa0-0b1a1101e94d",
        "colab": {
          "base_uri": "https://localhost:8080/",
          "height": 179
        }
      },
      "source": [
        "!pip install datefinder"
      ],
      "execution_count": 0,
      "outputs": [
        {
          "output_type": "stream",
          "text": [
            "Collecting datefinder\n",
            "  Downloading https://files.pythonhosted.org/packages/16/2b/af8efaee30c0ba4238cb4d0645a07100d33d11d20a8783c443ed8b813eb9/datefinder-0.7.0-py2.py3-none-any.whl\n",
            "Requirement already satisfied: python-dateutil>=2.4.2 in /usr/local/lib/python3.6/dist-packages (from datefinder) (2.6.1)\n",
            "Requirement already satisfied: regex>=2017.02.08 in /usr/local/lib/python3.6/dist-packages (from datefinder) (2019.12.20)\n",
            "Requirement already satisfied: pytz in /usr/local/lib/python3.6/dist-packages (from datefinder) (2018.9)\n",
            "Requirement already satisfied: six>=1.5 in /usr/local/lib/python3.6/dist-packages (from python-dateutil>=2.4.2->datefinder) (1.12.0)\n",
            "Installing collected packages: datefinder\n",
            "Successfully installed datefinder-0.7.0\n"
          ],
          "name": "stdout"
        }
      ]
    },
    {
      "cell_type": "code",
      "metadata": {
        "id": "r0Bf5gMtkuvF",
        "colab_type": "code",
        "colab": {}
      },
      "source": [
        "import datefinder"
      ],
      "execution_count": 0,
      "outputs": []
    },
    {
      "cell_type": "code",
      "metadata": {
        "id": "jjgPrSo_k5JE",
        "colab_type": "code",
        "colab": {}
      },
      "source": [
        "matches = datefinder.find_dates(sentence)"
      ],
      "execution_count": 0,
      "outputs": []
    },
    {
      "cell_type": "code",
      "metadata": {
        "id": "mZoXE7AWlD_V",
        "colab_type": "code",
        "outputId": "8b1cc7ae-0a3e-491e-f7ce-65bdad24c71d",
        "colab": {
          "base_uri": "https://localhost:8080/",
          "height": 35
        }
      },
      "source": [
        "for match in matches:\n",
        "  print(match)"
      ],
      "execution_count": 0,
      "outputs": [
        {
          "output_type": "stream",
          "text": [
            "2020-03-16 00:00:00\n"
          ],
          "name": "stdout"
        }
      ]
    },
    {
      "cell_type": "code",
      "metadata": {
        "id": "RlY0_Wi3lKTl",
        "colab_type": "code",
        "colab": {}
      },
      "source": [
        "sentence=\"Interest accrued on the Offered Securities will be payable semiannually in arrears on January 31 and July 31 of each year, commencing on January 31, 2019 in each case to the holder of record of such Offered Securities on the January 16 or July 16 preceding the next interest payment date.\""
      ],
      "execution_count": 0,
      "outputs": []
    },
    {
      "cell_type": "code",
      "metadata": {
        "id": "8GRvh9GGluQf",
        "colab_type": "code",
        "colab": {}
      },
      "source": [
        "sentence=\"The first Interest Payment date for the Bonds shall be 3 January 2020 and the last Interest Payement Date shall be relevant Redemption date\""
      ],
      "execution_count": 0,
      "outputs": []
    },
    {
      "cell_type": "code",
      "metadata": {
        "id": "hVhUyEqkmSqJ",
        "colab_type": "code",
        "colab": {}
      },
      "source": [
        "sentence=\"The first Payment Date will fall in 16 March 2020 (the “First Payment Date”).\""
      ],
      "execution_count": 0,
      "outputs": []
    },
    {
      "cell_type": "code",
      "metadata": {
        "id": "DEFpBMPRmfUd",
        "colab_type": "code",
        "colab": {}
      },
      "source": [
        ""
      ],
      "execution_count": 0,
      "outputs": []
    }
  ]
}