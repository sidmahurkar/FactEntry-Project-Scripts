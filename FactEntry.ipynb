{
  "nbformat": 4,
  "nbformat_minor": 0,
  "metadata": {
    "colab": {
      "name": "FactEntry.ipynb",
      "provenance": [],
      "include_colab_link": true
    },
    "kernelspec": {
      "name": "python3",
      "display_name": "Python 3"
    }
  },
  "cells": [
    {
      "cell_type": "markdown",
      "metadata": {
        "id": "view-in-github",
        "colab_type": "text"
      },
      "source": [
        "<a href=\"https://colab.research.google.com/github/sidmahurkar/FactEntry-Project-Scripts/blob/master/FactEntry.ipynb\" target=\"_parent\"><img src=\"https://colab.research.google.com/assets/colab-badge.svg\" alt=\"Open In Colab\"/></a>"
      ]
    },
    {
      "cell_type": "code",
      "metadata": {
        "id": "bJEvVJqieR6e",
        "colab_type": "code",
        "colab": {}
      },
      "source": [
        "import spacy\n",
        "import numpy as np\n",
        "import matplotlib.pyplot as plt "
      ],
      "execution_count": 0,
      "outputs": []
    },
    {
      "cell_type": "code",
      "metadata": {
        "id": "zkvrKwxfezmk",
        "colab_type": "code",
        "colab": {}
      },
      "source": [
        "nlp = spacy.load('en_core_web_sm')"
      ],
      "execution_count": 0,
      "outputs": []
    },
    {
      "cell_type": "code",
      "metadata": {
        "id": "eDTEUwV_e7Zz",
        "colab_type": "code",
        "colab": {}
      },
      "source": [
        "text = \"Hello Myself Dr Mashur Gulati. I am living in the U.S. I have a great Hospital. It is called 50-50 Hospital.\""
      ],
      "execution_count": 0,
      "outputs": []
    },
    {
      "cell_type": "code",
      "metadata": {
        "id": "VGhz7pEwfHXy",
        "colab_type": "code",
        "colab": {}
      },
      "source": [
        "doc = nlp(text)"
      ],
      "execution_count": 0,
      "outputs": []
    },
    {
      "cell_type": "code",
      "metadata": {
        "id": "rFmtBAlsfJim",
        "colab_type": "code",
        "outputId": "162bca91-a12c-4f6a-b5bb-111890055d14",
        "colab": {
          "base_uri": "https://localhost:8080/",
          "height": 204
        }
      },
      "source": [
        "sentences = []\n",
        "for t in doc.sents:\n",
        "  list.append(str(t))"
      ],
      "execution_count": 0,
      "outputs": [
        {
          "output_type": "error",
          "ename": "TypeError",
          "evalue": "ignored",
          "traceback": [
            "\u001b[0;31m---------------------------------------------------------------------------\u001b[0m",
            "\u001b[0;31mTypeError\u001b[0m                                 Traceback (most recent call last)",
            "\u001b[0;32m<ipython-input-5-5ed92215830e>\u001b[0m in \u001b[0;36m<module>\u001b[0;34m()\u001b[0m\n\u001b[1;32m      1\u001b[0m \u001b[0msentences\u001b[0m \u001b[0;34m=\u001b[0m \u001b[0;34m[\u001b[0m\u001b[0;34m]\u001b[0m\u001b[0;34m\u001b[0m\u001b[0;34m\u001b[0m\u001b[0m\n\u001b[1;32m      2\u001b[0m \u001b[0;32mfor\u001b[0m \u001b[0mt\u001b[0m \u001b[0;32min\u001b[0m \u001b[0mdoc\u001b[0m\u001b[0;34m.\u001b[0m\u001b[0msents\u001b[0m\u001b[0;34m:\u001b[0m\u001b[0;34m\u001b[0m\u001b[0;34m\u001b[0m\u001b[0m\n\u001b[0;32m----> 3\u001b[0;31m   \u001b[0mlist\u001b[0m\u001b[0;34m.\u001b[0m\u001b[0mappend\u001b[0m\u001b[0;34m(\u001b[0m\u001b[0mstr\u001b[0m\u001b[0;34m(\u001b[0m\u001b[0mt\u001b[0m\u001b[0;34m)\u001b[0m\u001b[0;34m)\u001b[0m\u001b[0;34m\u001b[0m\u001b[0;34m\u001b[0m\u001b[0m\n\u001b[0m",
            "\u001b[0;31mTypeError\u001b[0m: descriptor 'append' requires a 'list' object but received a 'str'"
          ]
        }
      ]
    },
    {
      "cell_type": "code",
      "metadata": {
        "id": "06qUr6fLfNsA",
        "colab_type": "code",
        "colab": {}
      },
      "source": [
        "sentences"
      ],
      "execution_count": 0,
      "outputs": []
    },
    {
      "cell_type": "code",
      "metadata": {
        "id": "dF4eUBZGfdYB",
        "colab_type": "code",
        "colab": {}
      },
      "source": [
        "tokens = []\n",
        "for sent in sentences:\n",
        "  token = []\n",
        "  doc1 = nlp(sent)\n",
        "  for t in doc1:\n",
        "    token.append(str(t.text))\n",
        "  tokens.append(token)"
      ],
      "execution_count": 0,
      "outputs": []
    },
    {
      "cell_type": "code",
      "metadata": {
        "id": "3nch5GCbffp3",
        "colab_type": "code",
        "outputId": "bcdcadab-5aed-4059-8683-824e7a0ad6c8",
        "colab": {
          "base_uri": "https://localhost:8080/",
          "height": 35
        }
      },
      "source": [
        "tokens"
      ],
      "execution_count": 0,
      "outputs": [
        {
          "output_type": "execute_result",
          "data": {
            "text/plain": [
              "[]"
            ]
          },
          "metadata": {
            "tags": []
          },
          "execution_count": 7
        }
      ]
    },
    {
      "cell_type": "code",
      "metadata": {
        "id": "vxzmMULVht6N",
        "colab_type": "code",
        "colab": {}
      },
      "source": [
        "for sent in sentences:\n",
        "  doc1 = nlp(sent)\n",
        "  for ent in doc1.ents:\n",
        "    print(ent)"
      ],
      "execution_count": 0,
      "outputs": []
    },
    {
      "cell_type": "code",
      "metadata": {
        "id": "py7CVreKh6wY",
        "colab_type": "code",
        "outputId": "06659236-5405-4071-9db5-373f741a90b9",
        "colab": {
          "base_uri": "https://localhost:8080/",
          "height": 34
        }
      },
      "source": [
        ""
      ],
      "execution_count": 0,
      "outputs": [
        {
          "output_type": "execute_result",
          "data": {
            "text/plain": [
              "str"
            ]
          },
          "metadata": {
            "tags": []
          },
          "execution_count": 17
        }
      ]
    },
    {
      "cell_type": "code",
      "metadata": {
        "id": "T5LAEWwajCOG",
        "colab_type": "code",
        "colab": {}
      },
      "source": [
        "do3c = nlp('')"
      ],
      "execution_count": 0,
      "outputs": []
    },
    {
      "cell_type": "code",
      "metadata": {
        "id": "jZHSP_t4kGXF",
        "colab_type": "code",
        "outputId": "2edc7307-a80b-4e75-8fbd-091e59845a7c",
        "colab": {
          "base_uri": "https://localhost:8080/",
          "height": 34
        }
      },
      "source": [
        ""
      ],
      "execution_count": 0,
      "outputs": [
        {
          "output_type": "stream",
          "text": [
            "New Delhi GPE\n"
          ],
          "name": "stdout"
        }
      ]
    },
    {
      "cell_type": "code",
      "metadata": {
        "id": "QWI7oa9FkN_X",
        "colab_type": "code",
        "outputId": "ab5d0ba1-2ba1-453d-e54c-f71960e572a9",
        "colab": {
          "base_uri": "https://localhost:8080/",
          "height": 390
        }
      },
      "source": [
        "!pip install sister"
      ],
      "execution_count": 0,
      "outputs": [
        {
          "output_type": "stream",
          "text": [
            "Collecting sister\n",
            "  Downloading https://files.pythonhosted.org/packages/6d/31/6c7c19362c36b20f4875bb0343ce6e8eefbfb7cd65b4f54a5b3e3cb07eb4/sister-0.1.5.tar.gz\n",
            "Collecting fasttext\n",
            "\u001b[?25l  Downloading https://files.pythonhosted.org/packages/10/61/2e01f1397ec533756c1d893c22d9d5ed3fce3a6e4af1976e0d86bb13ea97/fasttext-0.9.1.tar.gz (57kB)\n",
            "\u001b[K     |████████████████████████████████| 61kB 3.5MB/s \n",
            "\u001b[?25hRequirement already satisfied: numpy in /usr/local/lib/python3.6/dist-packages (from sister) (1.17.5)\n",
            "Collecting Janome\n",
            "\u001b[?25l  Downloading https://files.pythonhosted.org/packages/79/f0/bd7f90806132d7d9d642d418bdc3e870cfdff5947254ea3cab27480983a7/Janome-0.3.10-py2.py3-none-any.whl (21.5MB)\n",
            "\u001b[K     |████████████████████████████████| 21.5MB 3.8MB/s \n",
            "\u001b[?25hRequirement already satisfied: pybind11>=2.2 in /usr/local/lib/python3.6/dist-packages (from fasttext->sister) (2.4.3)\n",
            "Requirement already satisfied: setuptools>=0.7.0 in /usr/local/lib/python3.6/dist-packages (from fasttext->sister) (42.0.2)\n",
            "Building wheels for collected packages: sister, fasttext\n",
            "  Building wheel for sister (setup.py) ... \u001b[?25l\u001b[?25hdone\n",
            "  Created wheel for sister: filename=sister-0.1.5-cp36-none-any.whl size=4232 sha256=ed191609369a27c24f7b081979234ae29a88a7e937137e4b9388c1ede2d629a9\n",
            "  Stored in directory: /root/.cache/pip/wheels/7d/ed/48/76cdf61511496a1cd2a2c56dc9b4e9667401dfb6084f153cc3\n",
            "  Building wheel for fasttext (setup.py) ... \u001b[?25l\u001b[?25hdone\n",
            "  Created wheel for fasttext: filename=fasttext-0.9.1-cp36-cp36m-linux_x86_64.whl size=2383500 sha256=8119f5dc0a4a3936e92cdba2179ac7873611f3eba364e400036554409f1fe554\n",
            "  Stored in directory: /root/.cache/pip/wheels/9f/f0/04/caa82c912aee89ce76358ff954f3f0729b7577c8ff23a292e3\n",
            "Successfully built sister fasttext\n",
            "Installing collected packages: fasttext, Janome, sister\n",
            "Successfully installed Janome-0.3.10 fasttext-0.9.1 sister-0.1.5\n"
          ],
          "name": "stdout"
        }
      ]
    },
    {
      "cell_type": "code",
      "metadata": {
        "id": "5-bwBl6-q5mM",
        "colab_type": "code",
        "colab": {}
      },
      "source": [
        "import sister"
      ],
      "execution_count": 0,
      "outputs": []
    },
    {
      "cell_type": "code",
      "metadata": {
        "id": "aYjwChySrS0U",
        "colab_type": "code",
        "outputId": "bcf7b5b9-005d-40ed-faeb-8a5e245d15f1",
        "colab": {
          "base_uri": "https://localhost:8080/",
          "height": 70
        }
      },
      "source": [
        "embedder = sister.MeanEmbedding(lang='en')"
      ],
      "execution_count": 0,
      "outputs": [
        {
          "output_type": "stream",
          "text": [
            "Downloading from https://dl.fbaipublicfiles.com/fasttext/vectors-wiki/wiki.simple.zip...\n"
          ],
          "name": "stderr"
        },
        {
          "output_type": "stream",
          "text": [
            "Loading model...\n"
          ],
          "name": "stdout"
        },
        {
          "output_type": "stream",
          "text": [
            "\n"
          ],
          "name": "stderr"
        }
      ]
    },
    {
      "cell_type": "code",
      "metadata": {
        "id": "0abjDXJ0rfX9",
        "colab_type": "code",
        "colab": {}
      },
      "source": [
        "text1 = \"The 1st day of October in each calendar year from, and including, October 1, 2016 to, and including, the Scheduled Maturity Date.\""
      ],
      "execution_count": 0,
      "outputs": []
    },
    {
      "cell_type": "code",
      "metadata": {
        "id": "hjixHkBMsweE",
        "colab_type": "code",
        "colab": {}
      },
      "source": [
        "vector1 = embedder(text1)\n",
        "vector1 = vector.reshape(vector.shape[0],-1)"
      ],
      "execution_count": 0,
      "outputs": []
    },
    {
      "cell_type": "code",
      "metadata": {
        "id": "KvhK9HpLs0LV",
        "colab_type": "code",
        "colab": {}
      },
      "source": [
        "text2 = \"Payments on the Notes will be made by the Indenture Trustee, as paying agent, on the twenty-fifth (25th) day of each month (or, if such day is not a Business Day, then on the next succeeding Business Day), beginning in April 2019\""
      ],
      "execution_count": 0,
      "outputs": []
    },
    {
      "cell_type": "code",
      "metadata": {
        "id": "_6FwZlues1RA",
        "colab_type": "code",
        "colab": {}
      },
      "source": [
        "vector2 = embedder(text2)\n",
        "vector2 = vector2.reshape(vector2.shape[0],-1)"
      ],
      "execution_count": 0,
      "outputs": []
    },
    {
      "cell_type": "code",
      "metadata": {
        "id": "8US_R-U1yz2-",
        "colab_type": "code",
        "colab": {}
      },
      "source": [
        "text3 = r\"cash payments on the Notes are received on the twenty-fifth (25th) day of each month beginning in April 2019 as described under \\\"Description of The Notes\\\" in this Offering Memorandum;\""
      ],
      "execution_count": 0,
      "outputs": []
    },
    {
      "cell_type": "code",
      "metadata": {
        "id": "NMY5MJqpy-c3",
        "colab_type": "code",
        "colab": {}
      },
      "source": [
        "vector3 = embedder(text3)\n",
        "vector3 = vector3.reshape(vector3.shape[0], -1)"
      ],
      "execution_count": 0,
      "outputs": []
    },
    {
      "cell_type": "code",
      "metadata": {
        "id": "l2HT_pVt0WBN",
        "colab_type": "code",
        "colab": {}
      },
      "source": [
        "text4 = \"cash payments on the Notes are received on the twenty-fifth (25th) day of each month beginning in April 2019 as described under \\\"Description of The Notes\\\" in this Offering Memorandum;\""
      ],
      "execution_count": 0,
      "outputs": []
    },
    {
      "cell_type": "code",
      "metadata": {
        "id": "OvTCq9Bs0bXC",
        "colab_type": "code",
        "colab": {}
      },
      "source": [
        "vector4 = embedder(text4)\n",
        "vector4 = vector4.reshape(vector4.shape[0],-1)"
      ],
      "execution_count": 0,
      "outputs": []
    },
    {
      "cell_type": "code",
      "metadata": {
        "id": "DBvig6xX05UF",
        "colab_type": "code",
        "colab": {}
      },
      "source": [
        "text5 = \"The Indenture Trustee hereby acknowledges such grant, accepts the trusts under this Indenture in accordance with the provisions of this Indenture and agrees to perform its duties required in this Indenture to the best of its ability in order that the interests of the parties and the Noteholders, recognizing the priorities of their respective interests, may be adequately and effectively protected.\"\n",
        "vector5 = embedder(text5)\n",
        "vector5 = vector4.reshape(vector4.shape[0],-1)"
      ],
      "execution_count": 0,
      "outputs": []
    },
    {
      "cell_type": "code",
      "metadata": {
        "id": "ARO5knHbtnd9",
        "colab_type": "code",
        "colab": {}
      },
      "source": [
        "def cosine_similarity(x,y):\n",
        "  modx = np.sqrt(np.sum(np.square(x)))\n",
        "  mody = np.sqrt(np.sum(np.square(y)))\n",
        "  dot = np.sum(x*y)\n",
        "  return dot/modx/mody"
      ],
      "execution_count": 0,
      "outputs": []
    },
    {
      "cell_type": "code",
      "metadata": {
        "id": "YnTwH9hTt55K",
        "colab_type": "code",
        "colab": {}
      },
      "source": [
        "x = np.array([1,2,2])\n",
        "y = np.array([1,2,3])"
      ],
      "execution_count": 0,
      "outputs": []
    },
    {
      "cell_type": "code",
      "metadata": {
        "id": "tIBk7KBiui-_",
        "colab_type": "code",
        "outputId": "ae7b1c78-5d0d-4b53-e4f2-00bde74bb581",
        "colab": {
          "base_uri": "https://localhost:8080/",
          "height": 34
        }
      },
      "source": [
        "x*y"
      ],
      "execution_count": 0,
      "outputs": [
        {
          "output_type": "execute_result",
          "data": {
            "text/plain": [
              "array([1, 4, 9])"
            ]
          },
          "metadata": {
            "tags": []
          },
          "execution_count": 70
        }
      ]
    },
    {
      "cell_type": "code",
      "metadata": {
        "id": "2NMU9MuovDNq",
        "colab_type": "code",
        "outputId": "101e8f2d-a877-479c-8959-4f8895982d99",
        "colab": {
          "base_uri": "https://localhost:8080/",
          "height": 34
        }
      },
      "source": [
        "cosine_similarity(vector3, vector4)"
      ],
      "execution_count": 0,
      "outputs": [
        {
          "output_type": "execute_result",
          "data": {
            "text/plain": [
              "0.99995047"
            ]
          },
          "metadata": {
            "tags": []
          },
          "execution_count": 112
        }
      ]
    },
    {
      "cell_type": "code",
      "metadata": {
        "id": "xvbpMfk2vgin",
        "colab_type": "code",
        "outputId": "a8e2cbe0-c6cd-407b-9fa3-5dc69e2b7ee7",
        "colab": {
          "base_uri": "https://localhost:8080/",
          "height": 265
        }
      },
      "source": [
        "plt.plot(vector1, 'r', label='Vector1')\n",
        "plt.plot(vector5, 'g', label='Vector2')\n",
        "\n",
        "plt.legend()\n",
        "plt.show()"
      ],
      "execution_count": 0,
      "outputs": [
        {
          "output_type": "display_data",
          "data": {
            "image/png": "[encoded data removed]",
            "text/plain": [
              "<Figure size 432x288 with 1 Axes>"
            ]
          },
          "metadata": {
            "tags": []
          }
        }
      ]
    },
    {
      "cell_type": "code",
      "metadata": {
        "id": "C3Y5kReR2mqD",
        "colab_type": "code",
        "colab": {}
      },
      "source": [
        "def vector_diff(x,y):\n",
        "  diff = np.sum(x-y)\n",
        "  modx = np.sqrt(np.sum(np.square(x)))\n",
        "  mody = np.sqrt(np.sum(np.square(y)))\n",
        "  return diff/modx/mody"
      ],
      "execution_count": 0,
      "outputs": []
    },
    {
      "cell_type": "code",
      "metadata": {
        "id": "LGQjdyv73r5c",
        "colab_type": "code",
        "outputId": "4f002751-00da-4581-dd96-7789fbfe862c",
        "colab": {
          "base_uri": "https://localhost:8080/",
          "height": 34
        }
      },
      "source": [
        "vector_diff(vector1, vector2)"
      ],
      "execution_count": 0,
      "outputs": [
        {
          "output_type": "execute_result",
          "data": {
            "text/plain": [
              "0.069684595"
            ]
          },
          "metadata": {
            "tags": []
          },
          "execution_count": 122
        }
      ]
    },
    {
      "cell_type": "code",
      "metadata": {
        "id": "sXI4id0M3wvc",
        "colab_type": "code",
        "outputId": "e44b99ab-f026-4957-d565-2292287c671a",
        "colab": {
          "base_uri": "https://localhost:8080/",
          "height": 34
        }
      },
      "source": [
        "vector_diff(vector1, vector5)"
      ],
      "execution_count": 0,
      "outputs": [
        {
          "output_type": "execute_result",
          "data": {
            "text/plain": [
              "-0.10119519"
            ]
          },
          "metadata": {
            "tags": []
          },
          "execution_count": 123
        }
      ]
    },
    {
      "cell_type": "code",
      "metadata": {
        "id": "NM9BMYdF368t",
        "colab_type": "code",
        "outputId": "32e42b28-1f26-44a6-dfa3-3c344e7b5b37",
        "colab": {
          "base_uri": "https://localhost:8080/",
          "height": 34
        }
      },
      "source": [
        "vector_diff(vector1, vector3)"
      ],
      "execution_count": 0,
      "outputs": [
        {
          "output_type": "execute_result",
          "data": {
            "text/plain": [
              "-0.11675708"
            ]
          },
          "metadata": {
            "tags": []
          },
          "execution_count": 125
        }
      ]
    },
    {
      "cell_type": "code",
      "metadata": {
        "id": "XIq3ggVx4Caq",
        "colab_type": "code",
        "outputId": "b4872bf2-b35a-4db2-e43a-a075d3033241",
        "colab": {
          "base_uri": "https://localhost:8080/",
          "height": 34
        }
      },
      "source": [
        "vector_diff(vector1, vector4)"
      ],
      "execution_count": 0,
      "outputs": [
        {
          "output_type": "execute_result",
          "data": {
            "text/plain": [
              "-0.10119519"
            ]
          },
          "metadata": {
            "tags": []
          },
          "execution_count": 126
        }
      ]
    },
    {
      "cell_type": "code",
      "metadata": {
        "id": "DOGeE_ks4HIX",
        "colab_type": "code",
        "colab": {}
      },
      "source": [
        "def cosine_sim(x,y):\n",
        "  \n",
        "  return(np.dot(x.reshape(x.shape[0]),y.reshape(y.shape[0]))/(np.linalg.norm(x)*np.linalg.norm(y)))"
      ],
      "execution_count": 0,
      "outputs": []
    },
    {
      "cell_type": "code",
      "metadata": {
        "id": "BmXNBaYk4dWW",
        "colab_type": "code",
        "outputId": "fbce6e7c-d20e-4562-c318-e0f58d6c3a60",
        "colab": {
          "base_uri": "https://localhost:8080/",
          "height": 34
        }
      },
      "source": [
        ""
      ],
      "execution_count": 0,
      "outputs": [
        {
          "output_type": "execute_result",
          "data": {
            "text/plain": [
              "0.49942544"
            ]
          },
          "metadata": {
            "tags": []
          },
          "execution_count": 146
        }
      ]
    },
    {
      "cell_type": "code",
      "metadata": {
        "id": "lugpKM_M452c",
        "colab_type": "code",
        "outputId": "7dfc41a1-a248-4896-e9bd-f61fcc79776a",
        "colab": {
          "base_uri": "https://localhost:8080/",
          "height": 34
        }
      },
      "source": [
        ""
      ],
      "execution_count": 0,
      "outputs": [
        {
          "output_type": "execute_result",
          "data": {
            "text/plain": [
              "(3,)"
            ]
          },
          "metadata": {
            "tags": []
          },
          "execution_count": 141
        }
      ]
    },
    {
      "cell_type": "code",
      "metadata": {
        "id": "tcY2fCGd5OaJ",
        "colab_type": "code",
        "colab": {}
      },
      "source": [
        ""
      ],
      "execution_count": 0,
      "outputs": []
    }
  ]
}